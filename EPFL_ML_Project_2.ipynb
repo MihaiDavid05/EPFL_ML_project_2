{
  "nbformat": 4,
  "nbformat_minor": 0,
  "metadata": {
    "colab": {
      "name": "EPFL_ML_Project_2.ipynb",
      "provenance": [],
      "collapsed_sections": [
        "P_TSvw0o-h59",
        "QDBJFzrbTsDV",
        "tGVCP7Mv-XlP"
      ]
    },
    "kernelspec": {
      "display_name": "Python 3",
      "name": "python3"
    },
    "language_info": {
      "name": "python"
    },
    "accelerator": "GPU"
  },
  "cells": [
    {
      "cell_type": "markdown",
      "source": [
        "## Setup"
      ],
      "metadata": {
        "id": "NHuKJxVPeCcf"
      }
    },
    {
      "cell_type": "markdown",
      "metadata": {
        "id": "P_TSvw0o-h59"
      },
      "source": [
        "###CUDA10 (run one time only)"
      ]
    },
    {
      "cell_type": "code",
      "metadata": {
        "id": "zxSnAWiD-rQN"
      },
      "source": [
        "!nvcc --version"
      ],
      "execution_count": null,
      "outputs": []
    },
    {
      "cell_type": "code",
      "metadata": {
        "id": "N8ywna4E-8Qh"
      },
      "source": [
        "!pip install git+git://github.com/andreinechaev/nvcc4jupyter.git"
      ],
      "execution_count": null,
      "outputs": []
    },
    {
      "cell_type": "code",
      "metadata": {
        "id": "AagDtemh-9_W"
      },
      "source": [
        "%load_ext nvcc_plugin"
      ],
      "execution_count": null,
      "outputs": []
    },
    {
      "cell_type": "code",
      "metadata": {
        "id": "JWC3Mcpw_Ja3"
      },
      "source": [
        "%cd /usr/local/"
      ],
      "execution_count": null,
      "outputs": []
    },
    {
      "cell_type": "code",
      "metadata": {
        "id": "_eBUsqT2_LxQ"
      },
      "source": [
        "!pwd"
      ],
      "execution_count": null,
      "outputs": []
    },
    {
      "cell_type": "code",
      "metadata": {
        "id": "c_AVg_8T_ObD"
      },
      "source": [
        "!ls"
      ],
      "execution_count": null,
      "outputs": []
    },
    {
      "cell_type": "code",
      "metadata": {
        "id": "nVTLCXWZ_TjC"
      },
      "source": [
        "!rm -rf cuda\n",
        "!ln -s /usr/local/cuda-10.0 /usr/local/cuda"
      ],
      "execution_count": null,
      "outputs": []
    },
    {
      "cell_type": "code",
      "metadata": {
        "id": "bsnS1EBh_XOF"
      },
      "source": [
        "!stat cuda"
      ],
      "execution_count": null,
      "outputs": []
    },
    {
      "cell_type": "markdown",
      "metadata": {
        "id": "QDBJFzrbTsDV"
      },
      "source": [
        "###Libraries (run one time only)"
      ]
    },
    {
      "cell_type": "code",
      "metadata": {
        "id": "y-0bcKKKN-d0"
      },
      "source": [
        "from tensorflow.python.client import device_lib\n",
        "device_lib.list_local_devices()"
      ],
      "execution_count": null,
      "outputs": []
    },
    {
      "cell_type": "code",
      "metadata": {
        "id": "fWrf3W1F4S_a"
      },
      "source": [
        "!conda --version\n",
        "# If !conda --version returns no results, install conda with :\n",
        "!pip install -q condacolab\n",
        "import condacolab\n",
        "condacolab.install()"
      ],
      "execution_count": null,
      "outputs": []
    },
    {
      "cell_type": "code",
      "metadata": {
        "id": "QTU2F7yA4k1c"
      },
      "source": [
        "!conda install pytorch==1.1.0 torchvision==0.3.0 cudatoolkit=10.0 -c pytorch"
      ],
      "execution_count": null,
      "outputs": []
    },
    {
      "cell_type": "code",
      "metadata": {
        "id": "SEfMrbBL3Zfk"
      },
      "source": [
        "!pip install numpy==1.21.4\n",
        "!pip install opencv-python==4.5.4.58\n",
        "!pip install matplotlib==3.5.0\n",
        "!pip intall pillow==8.4.0\n",
        "!pip install pyyaml==6.0\n",
        "!pip install tensorboard==2.7.0\n",
        "!pip install tqdm==4.62.3\n",
        "!pip install future==0.18.2\n",
        "!pip instal imutils==0.5.4\n",
        "!pip install -U pyyaml"
      ],
      "execution_count": null,
      "outputs": []
    },
    {
      "cell_type": "markdown",
      "metadata": {
        "id": "fIWaFg-vTwd4"
      },
      "source": [
        "##Code"
      ]
    },
    {
      "cell_type": "markdown",
      "metadata": {
        "id": "tGVCP7Mv-XlP"
      },
      "source": [
        "###Setup (always run on restarting kernel)"
      ]
    },
    {
      "cell_type": "code",
      "metadata": {
        "id": "JnNOCrPwurnC"
      },
      "source": [
        "# If not already mounted    \n",
        "from google.colab import drive\n",
        "drive.mount('/content/drive')"
      ],
      "execution_count": null,
      "outputs": []
    },
    {
      "cell_type": "code",
      "metadata": {
        "id": "mW5wVAlfFwsZ"
      },
      "source": [
        "import sys\n",
        "\n",
        "# You should rename your project folder as 'EPFL_ML_project_2'\n",
        "\n",
        "%env PYTHONPATH=\"$/env/python:/content/drive/MyDrive/EPFL_ML_project_2\"\n",
        "%cd drive/MyDrive/EPFL_ML_project_2/\n",
        "sys.path.append('/content/drive/MyDrive/EPFL_ML_project_2')"
      ],
      "execution_count": null,
      "outputs": []
    },
    {
      "cell_type": "markdown",
      "metadata": {
        "id": "9tLjJfopT-pZ"
      },
      "source": [
        "### Helpers"
      ]
    },
    {
      "cell_type": "code",
      "metadata": {
        "id": "axxwgrqJNaBm"
      },
      "source": [
        "import os\n",
        "import torch\n",
        "import numpy as np\n",
        "import logging\n",
        "import datetime\n",
        "from utils.config import read_config, DotConfig\n",
        "from utils.builders import *\n",
        "from utils.trainval import train, predict\n",
        "from torch.utils.tensorboard import SummaryWriter\n",
        "\n",
        "SEED = 45\n",
        "torch.manual_seed(SEED)\n",
        "torch.backends.cudnn.deterministic = True\n",
        "torch.backends.cudnn.benchmark = False\n",
        "\n",
        "def run(exp_name):\n",
        "    # Set random number generator seed for numpy\n",
        "    rng = np.random.RandomState(SEED)\n",
        "    # Get command line arguments and configuration dictionary\n",
        "    config_path = 'configs/' + exp_name + '.yaml'\n",
        "    config = read_config(config_path)\n",
        "    config = DotConfig(config)\n",
        "    config.name = exp_name\n",
        "\n",
        "    # Set file for logging\n",
        "    log_filename = config.name + '.log'\n",
        "    log_dir = config.log_dir_path + config.name\n",
        "    if not os.path.exists(log_dir):\n",
        "        os.mkdir(log_dir)\n",
        "    log_filename = log_dir + '/log.log'\n",
        "    if os.path.exists(log_filename):\n",
        "        now = datetime.datetime.now()\n",
        "        log_filename = log_dir + '/log_' + str(now.minute) + '_' + str(now.second) + '.log'\n",
        "    logging.basicConfig(filename=log_filename, level=logging.INFO, format='%(levelname)s: %(message)s')\n",
        "    logging.info(f'Configuration file used is <{config.name}>\\n')\n",
        "\n",
        "    # Check for cuda availability\n",
        "    device = torch.device('cuda' if torch.cuda.is_available() else 'cpu')\n",
        "    logging.info(f'Device is {device}')\n",
        "\n",
        "    # Build network according to config file and send it to device\n",
        "    net = build_network(config)\n",
        "    net.to(device=device)\n",
        "\n",
        "    # Show network format for a 400x400x3 image input\n",
        "    #summary(net, (3, 400, 400), 1)\n",
        "\n",
        "    # Build dataset according to config file\n",
        "    dataset = build_dataset(config)\n",
        "\n",
        "    # Load pretrained VGG13\n",
        "    if config.pretrain is not None:\n",
        "        net = load_pretrain_model(net, config)\n",
        "        logging.info(f'Loaded pretrained weights!\\n')\n",
        "\n",
        "    # Train network\n",
        "    writer = SummaryWriter(log_dir=log_dir)\n",
        "    train(net, dataset, config, writer, rng=rng, device=device)\n",
        "\n",
        "\n",
        "def make_prediction(exp_name, model_checkpoint, save=False):\n",
        "    args = {}\n",
        "    args['save'] = save\n",
        "    args = DotConfig(args)\n",
        "     # Get command line arguments and configuration dictionary\n",
        "    config_path = 'configs/' + exp_name + '.yaml'\n",
        "    config = read_config(config_path)\n",
        "    config = DotConfig(config)\n",
        "    config.name = exp_name\n",
        "\n",
        "    # Set file for logging\n",
        "    log_filename = config.name + '.log'\n",
        "    log_dir = config.log_dir_path + config.name\n",
        "    if not os.path.exists(log_dir):\n",
        "        os.mkdir(log_dir)\n",
        "    log_filename = log_dir + '/predict_log.log'\n",
        "    if os.path.exists(log_filename):\n",
        "        now = datetime.datetime.now()\n",
        "        log_filename = log_dir + '/predict_log_' + str(now.minute) + '_' + str(now.second) + '.log'\n",
        "    logging.basicConfig(filename=log_filename, level=logging.INFO, format='%(levelname)s: %(message)s')\n",
        "    logging.info(f'Configuration file used is <{config.name}>\\n')\n",
        "\n",
        "    # Check for cuda availability\n",
        "    device = torch.device('cuda' if torch.cuda.is_available() else 'cpu')\n",
        "    logging.info(f'Device is {device}')\n",
        "\n",
        "    # Build network according to config file and send it to device\n",
        "    net = build_network(config)\n",
        "    net.to(device=device)\n",
        "\n",
        "    # Build dataset according to config file\n",
        "    dataset = build_dataset(config)\n",
        "\n",
        "    # Load weights\n",
        "    checkpoint_path = 'checkpoints/' + config.name + '/checkpoint_best.pth'\n",
        "    net.load_state_dict(torch.load(checkpoint_path, map_location=device))\n",
        "\n",
        "    # Generate prediction\n",
        "    predict(args, config, net, dataset, device)\n"
      ],
      "execution_count": null,
      "outputs": []
    },
    {
      "cell_type": "markdown",
      "metadata": {
        "id": "HFZHW6GtUB6H"
      },
      "source": [
        "###Train + eval"
      ]
    },
    {
      "cell_type": "code",
      "metadata": {
        "id": "gn9JQeogOkTh"
      },
      "source": [
        "# Train and evaluate\n",
        "EXP_NAME = 'experiment_BEST'\n",
        "run(EXP_NAME)"
      ],
      "execution_count": null,
      "outputs": []
    },
    {
      "cell_type": "markdown",
      "metadata": {
        "id": "0q03IFzaUFNS"
      },
      "source": [
        "###Predict"
      ]
    },
    {
      "cell_type": "code",
      "metadata": {
        "id": "D6uzPEdDRWrv"
      },
      "source": [
        "# Make prediction and create submission file\n",
        "EXP_NAME = 'experiment_BEST'\n",
        "MODEL_NAME = 'experiment_BEST'\n",
        "make_prediction(EXP_NAME, MODEL_NAME, save=False)"
      ],
      "execution_count": null,
      "outputs": []
    }
  ]
}